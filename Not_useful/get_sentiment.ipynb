{
 "cells": [
  {
   "cell_type": "code",
   "execution_count": 1,
   "metadata": {},
   "outputs": [
    {
     "name": "stderr",
     "output_type": "stream",
     "text": [
      "C:\\Users\\athar\\AppData\\Local\\Packages\\PythonSoftwareFoundation.Python.3.12_qbz5n2kfra8p0\\LocalCache\\local-packages\\Python312\\site-packages\\tqdm\\auto.py:21: TqdmWarning: IProgress not found. Please update jupyter and ipywidgets. See https://ipywidgets.readthedocs.io/en/stable/user_install.html\n",
      "  from .autonotebook import tqdm as notebook_tqdm\n"
     ]
    }
   ],
   "source": [
    "from transformers import pipeline"
   ]
  },
  {
   "cell_type": "code",
   "execution_count": 3,
   "metadata": {},
   "outputs": [
    {
     "name": "stderr",
     "output_type": "stream",
     "text": [
      "C:\\Users\\athar\\AppData\\Local\\Packages\\PythonSoftwareFoundation.Python.3.12_qbz5n2kfra8p0\\LocalCache\\local-packages\\Python312\\site-packages\\transformers\\pipelines\\text_classification.py:104: UserWarning: `return_all_scores` is now deprecated,  if want a similar functionality use `top_k=None` instead of `return_all_scores=True` or `top_k=1` instead of `return_all_scores=False`.\n",
      "  warnings.warn(\n"
     ]
    }
   ],
   "source": [
    "pipe_SentimentAnalysis = pipeline(\n",
    "    \"text-classification\", model=\"lxyuan/distilbert-base-multilingual-cased-sentiments-student\", return_all_scores = True, device = -1)"
   ]
  },
  {
   "cell_type": "code",
   "execution_count": 3,
   "metadata": {},
   "outputs": [],
   "source": [
    "import pandas as pd"
   ]
  },
  {
   "cell_type": "code",
   "execution_count": 22,
   "metadata": {},
   "outputs": [
    {
     "name": "stderr",
     "output_type": "stream",
     "text": [
      "<>:1: SyntaxWarning: invalid escape sequence '\\D'\n",
      "<>:1: SyntaxWarning: invalid escape sequence '\\D'\n",
      "C:\\Users\\athar\\AppData\\Local\\Temp\\ipykernel_21476\\3100209064.py:1: SyntaxWarning: invalid escape sequence '\\D'\n",
      "  csv_file = \"C:\\Desktop\\Restaurant_Comparator\\data_collection\\web_scraping\\dominos-pizza-3-airoli-navi-mumbai_reviews.csv\"\n"
     ]
    }
   ],
   "source": [
    "csv_file = \"C:\\Desktop\\Restaurant_Comparator\\data_collection\\web_scraping\\dominos-pizza-3-airoli-navi-mumbai_reviews.csv\""
   ]
  },
  {
   "cell_type": "code",
   "execution_count": 43,
   "metadata": {},
   "outputs": [],
   "source": [
    "def return_sentiment(csv_file):\n",
    "    df = pd.read_csv(csv_file, encoding='utf-8')\n",
    "    df.dropna(axis=0, inplace=True)\n",
    "    sentiments = []\n",
    "    for review in df['Review']:\n",
    "        sentiments.append(pipe_SentimentAnalysis(review)[0])\n",
    "\n",
    "    sentiment_dict = {\n",
    "    'positive': 0,\n",
    "    'negative': 0,\n",
    "    }\n",
    "\n",
    "    for sentiment in sentiments:\n",
    "        if sentiment[0]['score'] > 0.5:\n",
    "            sentiment_dict['positive'] += 1\n",
    "        else:\n",
    "            sentiment_dict['negative'] += 1  \n",
    "        \n",
    "    if sentiment_dict['positive'] > sentiment_dict['negative']:\n",
    "        return \"Positive\"\n",
    "    else:\n",
    "        return \"Negative\"      "
   ]
  },
  {
   "cell_type": "code",
   "execution_count": 44,
   "metadata": {},
   "outputs": [
    {
     "data": {
      "text/plain": [
       "'Negative'"
      ]
     },
     "execution_count": 44,
     "metadata": {},
     "output_type": "execute_result"
    }
   ],
   "source": [
    "return_sentiment(csv_file)"
   ]
  },
  {
   "cell_type": "code",
   "execution_count": 9,
   "metadata": {},
   "outputs": [],
   "source": [
    "restaurant_database = \"restaurant_database.csv\"\n",
    "df = pd.read_csv(restaurant_database)"
   ]
  },
  {
   "cell_type": "code",
   "execution_count": 13,
   "metadata": {},
   "outputs": [
    {
     "name": "stdout",
     "output_type": "stream",
     "text": [
      "https://www.zomato.com/mumbai/hotel-mamta-dining-bar-airoli-navi-mumbai Hotel Mamta Dining Bar\n"
     ]
    }
   ],
   "source": [
    "for index, row in df.iterrows():\n",
    "    if \"mamta\" in row['Link'] and 'airoli' in row['Link']:\n",
    "        print(row['Link'], row[\"Name\"])"
   ]
  }
 ],
 "metadata": {
  "kernelspec": {
   "display_name": "Python 3",
   "language": "python",
   "name": "python3"
  },
  "language_info": {
   "codemirror_mode": {
    "name": "ipython",
    "version": 3
   },
   "file_extension": ".py",
   "mimetype": "text/x-python",
   "name": "python",
   "nbconvert_exporter": "python",
   "pygments_lexer": "ipython3",
   "version": "3.12.2"
  }
 },
 "nbformat": 4,
 "nbformat_minor": 2
}
